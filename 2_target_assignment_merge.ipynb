{
 "cells": [
  {
   "cell_type": "code",
   "execution_count": null,
   "id": "180982ca-942d-472a-bf94-c464b6e1959d",
   "metadata": {},
   "outputs": [],
   "source": [
    "import pandas as pd\n",
    "import os\n",
    "\n",
    "directory_path = r\"folder_path\"\n",
    "\n",
    "files_and_targets = {\n",
    "    'API-1_54.xlsx': [54],\n",
    "    'API-2.xlsx': [96, 97, 98],\n",
    "    'API-3.xlsx': [52, 53],\n",
    "    'API-4.xlsx': [70, 71],\n",
    "    'API-5.xlsx': [53, 54],\n",
    "    'API-6.xlsx': [56],\n",
    "    'API-7.xlsx': [44]\n",
    "}\n",
    "\n",
    "def process_excel(file_path, target_rows, columns_needed=600):\n",
    "    \n",
    "    data = pd.read_excel(file_path)\n",
    "    \n",
    "    data = data.iloc[:, :columns_needed].reindex(columns=range(1, columns_needed+1), fill_value=\"NaN\")\n",
    "    \n",
    "    data[\"Target\"] = 0\n",
    "    data.loc[target_rows, \"Target\"] = 1\n",
    "    \n",
    "    return data\n",
    "\n",
    "all_data = [process_excel(os.path.join(directory_path, file), rows) for file, rows in files_and_targets.items()]\n",
    "\n",
    "final_data = pd.concat(all_data, ignore_index=True)\n",
    "\n",
    "output_path = os.path.join(directory_path, \"file_name.xlsx\")\n",
    "final_data.to_excel(output_path, index=False)"
   ]
  }
 ],
 "metadata": {
  "kernelspec": {
   "display_name": "Python 3 (ipykernel)",
   "language": "python",
   "name": "python3"
  },
  "language_info": {
   "codemirror_mode": {
    "name": "ipython",
    "version": 3
   },
   "file_extension": ".py",
   "mimetype": "text/x-python",
   "name": "python",
   "nbconvert_exporter": "python",
   "pygments_lexer": "ipython3",
   "version": "3.11.9"
  }
 },
 "nbformat": 4,
 "nbformat_minor": 5
}
