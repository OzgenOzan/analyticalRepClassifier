{
 "cells": [
  {
   "cell_type": "code",
   "execution_count": null,
   "id": "22361b4f-f9d4-4710-b642-4f401b0e7c41",
   "metadata": {},
   "outputs": [],
   "source": [
    "import pdfplumber\n",
    "import os\n",
    "import re\n",
    "from openpyxl import Workbook\n",
    "\n",
    "def extract_words(pdf_path, regex):\n",
    "    wb = Workbook()\n",
    "    ws = wb.active\n",
    "    \n",
    "    with pdfplumber.open(pdf_path) as pdf:\n",
    "        for page_number, page in enumerate(pdf.pages):\n",
    "            text = page.extract_text()\n",
    "            \n",
    "            if text:\n",
    "                text = text.encode('utf-8').decode('utf-8')\n",
    "                words = re.split(regex, text)\n",
    "                words = [word.strip() for word in words if word.strip()]\n",
    "                ws.append(words)\n",
    "\n",
    "    return wb\n",
    "\n",
    "def main():\n",
    "    pdf_path = r\"file_path.pdf\"\n",
    "    regex = r\"[^$α-ωΑ-Ωa-zA-Z0-9/`'’-]+\"\n",
    "    wb = extract_words(pdf_path, regex)\n",
    "    wb.save(r\"file_path.xlsx\")\n",
    "\n",
    "if __name__ == \"__main__\":\n",
    "    main()"
   ]
  }
 ],
 "metadata": {
  "kernelspec": {
   "display_name": "Python 3 (ipykernel)",
   "language": "python",
   "name": "python3"
  },
  "language_info": {
   "codemirror_mode": {
    "name": "ipython",
    "version": 3
   },
   "file_extension": ".py",
   "mimetype": "text/x-python",
   "name": "python",
   "nbconvert_exporter": "python",
   "pygments_lexer": "ipython3",
   "version": "3.11.9"
  }
 },
 "nbformat": 4,
 "nbformat_minor": 5
}
